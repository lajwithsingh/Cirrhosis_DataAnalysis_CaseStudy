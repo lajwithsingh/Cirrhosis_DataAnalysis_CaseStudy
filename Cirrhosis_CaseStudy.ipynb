{
 "cells": [
  {
   "cell_type": "markdown",
   "metadata": {},
   "source": [
    "# Cirrhosis Relevel Data Analysis Case Study\n",
    "\n",
    "Cirrhosis Relevel Data Analysis One of The Relevel's Case Study Which Relevel Asks in Their Relevel Data Analytics Test. Here In this Case Study We are Going To Solve Business Questions You using Python's Data Analysis Kit. \n",
    "\n",
    "### What is Relevel ?\n",
    "\n",
    "Relevel is India's first hiring tournament platform. At Relevel, job aspirants can get access to multiple jobs in dream companies. Relevel also gives companies easy access to source and select the best of candidates, pre-assessed on their aptitude, competencies and skills.\n",
    "\n",
    "Relevel, an Unacademy Group Company, is India's first hiring platform that empowers job-seekers to showcase their skills through tests and get their dream job within 15 days.\n",
    "\n",
    "<img src=\"data:image/png;base64,iVBORw0KGgoAAAANSUhEUgAAASwAAACoCAMAAABt9SM9AAAAhFBMVEX///8oKCgAAAD6+volJSUQEBANDQ319fUaGhr8/PwvLy+4uLgsLCzy8vKSkpLCwsLV1dXf39+cnJy5ubnb29vl5eUfHx+KioqysrIXFxeEhISoqKjs7Ozi4uLPz89jY2NNTU1CQkKgoKB6eno4ODhVVVVqamp8fHyrq6s/Pz9wcHBSUlLGVlU/AAAGGklEQVR4nO2aiXKcOhBFJbEzrGIxBAYY4mXs9///97oFTMYV+y2OHTvUPeUKoC3oVnerpUEIAAAAAAAAAAAAAAAAAAAAAAAAAAAAAAAAAAAAAAAAAAAAAAAAAAAAAAAAAAAAABaKomje0K06FIfs3V/mUzk2K+nxtSa16yjr/4+cKkd9+5VX+3oclLPgqqh7uUloyzeJ5Ur/5tde7qtxcOSGraYXNYFYGyxWrVxXubWU7fhSE4i1QWLVD4HnxcPYSqmGtdjLy2pr8kysOM97c2N5nreVUn8vMHdVmcdr4T7F8tcwPNbSfzB32dgqpexkEeBKrGJqXde55eB2VHZ9uw4y+rby6DqHrlLOlJrCfYtFs7MnvvmmamkTrW9WyItYwejKSNKfcyJpRhk6iyFWKrRpjCp0uBfFvqd1uB2LlSlpn+ia0NW9nexW2jX71EWs0WedptqO6onEaENpVBGJHTql8GQt6/b06NrSZZH2LVZD4etOiJy08smTvBtHtuyWm1iFG8nHksLWfR05ZyFkFLosZmBHEfV78GU90nN5S+3LnYsV0yTbxEzaLUzJfS1d74dYk4yc3FQ8SkkmqOuwnump8EP/IDzSeIlhvTJD7lOsekyL4nBT27Qa0hIYUdyhij7Vd7ZZHlex4jayyYBElSYnGalY9G4YhVRwJ6PIMtpoeiqbG9u48z7FkjVn8D5rRYbi+dJ+1Pe+cp3WUSq9iJWTF97p0VFO61MN2diTCfGlE9pkkB3nIDeT4n6ukrsVa6PmlIDEkjbvfvzp4ZxdBfjciSLZtq0r724OOfvlQDI9iW922NKq2bVGdVeFY5JyjrZTsWrK3+nSLnvDiLxoemhKb2vCYlHG1bck1kg6XSrEKQrrSoaSE3/SRkb3SdoHa+U+xaJoHIiB10CTfH/3pZ8slUsSz2KxQBSp2iXfFGuW3tVhNEWhKaUAL9ulPDZ6sVh7O3XYVsPvLUV6vqHUgRIl0qm8V0atiVZJLTxOHSJn7kUwTLeL+cR1RDE+ssU6gG2nlvCK1qRfnLbZlfBe+l//UIpNrIDcT5mUgZJS6dN2R/m15H1gQtGoVX7ASWlEgV85dv3XotZ3OwzDWpt7L6K8n5YEqlbsfoFZXpX+nHl9CBexREqWUBs7SGi7Y85s3BOLFdsc820K6U+K8k9CuvfLZjFrSSx32VmL/kTJu1koFoU6RY+bR++CA5nCsnsmKZRazmiyJ5ct63ZeKqqRn1jHdKR9tKumYuv+SIZ2fxmsO3FDNa6nyY2k2offMo3fQ59l2XoYY9HtsJ26HLMs/tEqzrI19ljlUF6HoSAIrp5EXGb5VcExy9//lQEAAADwmQT/3uSDB/hzsJKfdm/WYOZ/nWj9A/38zm/0hbGSn35A9ZYi/erXD8/o97T7+xesJOhL2t1Vxo7Mod4q1lwJrxJVaSr6cpEuXq7V+hss1RqxrNwk7selufnnyIME/03wPwVLN12hGzGc6aEyLvVDrEp35yYpadfXFZ2m0lQfOh1byZm7CKubi7mhPrk+HHRPwjddkwzcJxcNn3INh8+c27tjaZ7UPAiarGjMFvhKLJq0yPRy2nceRMmC0d6QH5NemO+2SCwr6Y3QgR6oOhlMn16Tren+82b2ASwBPutEmpJKpmgTi5xKm8dABOUwnFPRrN9CeNmQUUjT7IvUJp9pD54lcZDEa++YRjpnIj9/zqQ+iotYpFSarkXmt1OyCuOWLNaclnlzEStOhjInLY3dUJtcl1lWllbAY3FzI1Y+i25nhw6LG3akwiHV68J45vMq9r5NLJ47B6GMn/MgY4MhyzpwRDJuyCbmiedikW/vbaHkoJzOPPs+2c704rkrzizA6oaW6JqhmUnVQqeNjj2dDmedC2/u0q6hNnnSUM1ikt4Ni8UHy1mys29KKRqJaj3+u4rGeVaaJIJX/iA3BX3P1b053LPKzKvYfY9Zb6q9MuNargtKbsCF8Z6OlJ9Rxulbvkl+laD0mvQ9B/xKUOL0hm8hX8dq9G61AgAAAAAAAAAAAAAAAAAAAAAAAAAAAAAAAAAAAAAAAAAAAAAAAAAAAAAAAAAAAAD8Nv4GKchXSTRRlDgAAAAASUVORK5CYII=\">\n",
    "\n",
    "### What is Cirrhosis ?\n",
    "\n",
    "Cirrhosis is a late stage of scarring (fibrosis) of the liver caused by many forms of liver diseases and conditions, such as hepatitis and chronic alcoholism.\n",
    "\n",
    "Each time your liver is injured — whether by disease, excessive alcohol consumption or another cause — it tries to repair itself. In the process, scar tissue forms. As cirrhosis progresses, more and more scar tissue forms, making it difficult for the liver to function (decompensated cirrhosis). Advanced cirrhosis is life-threatening.\n",
    "\n",
    "The liver damage done by cirrhosis generally can't be undone. But if liver cirrhosis is diagnosed early and the cause is treated, further damage can be limited and, rarely, reversed.\n",
    "\n",
    "<img src=\"https://ak.picdn.net/shutterstock/videos/28176700/thumb/11.jpg\">"
   ]
  },
  {
   "cell_type": "markdown",
   "metadata": {},
   "source": [
    "### Cirrhosis Dataset\n",
    "link : `https://raw.githubusercontent.com/mrblink2002/Cirrhosis_DataAnalysis_CaseStudy/master/Dataset/cirrhosis.csv`\n",
    "\n",
    "Columns|Description\n",
    "---|---\n",
    "ID|Represents the ID of the Patient\n",
    "N_Days|Number of Days Patient Under Treatment\n",
    "Status|Current Status of the Patient\n",
    "Drug|Drug Given to Patient\n",
    "Age|Simply Age of Patient \n",
    "Sex|Gender of Patient \n",
    "Ascites | Variable To check Whether a Patient Have Ascites Or Not\n",
    "Hepatomegaly | Variable To check Whether a Patient Have Hepatomegaly Or Not\n",
    "Spiders | Variable To check Whether a Patient Have Spiders Or Not\n",
    "Edema | Variable To check Whether a Patient Have Edema Or Not\n",
    "Bilirubin | Variable To check Whether a Patient Have Bilirubin Or Not\n",
    "Cholesterol | Cholesterol level of the Patient \n",
    "Albumin | Albumin level of the Patient\n",
    "Copper | Level of Copper in Patient's Body\n",
    "Alk_Phos| Level of Alkanic Phosphorous\n",
    "SGOT | Level of SGOT in Patient's Body\n",
    "Tryglicerides | Level of Tryglicerides in Patient's Body\n",
    "Platelets | Amount of Platelets in Patient's Body\n",
    "Prothrombin | Amount of Prothrombin in Patient's Body'\n",
    "Stage | Stage of Cirrhosis"
   ]
  },
  {
   "cell_type": "code",
   "execution_count": null,
   "metadata": {},
   "outputs": [],
   "source": []
  }
 ],
 "metadata": {
  "language_info": {
   "name": "python"
  },
  "orig_nbformat": 4
 },
 "nbformat": 4,
 "nbformat_minor": 2
}
