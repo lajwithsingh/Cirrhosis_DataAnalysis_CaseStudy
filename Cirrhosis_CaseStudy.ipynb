{
 "cells": [
  {
   "cell_type": "markdown",
   "metadata": {},
   "source": [
    "# Cirrhosis Data Analysis \n",
    "## A Relevel Case Study\n",
    "\n",
    "Cirrhosis Relevel Data Analysis One of The Relevel's Case Study Which Relevel Asks in Their Relevel Data Analytics Test. Here In this Case Study We are Going To Solve Business Questions You using Python's Data Analysis Kit. \n",
    "\n",
    "### What is Relevel ?\n",
    "\n",
    "Relevel is India's first hiring tournament platform. At Relevel, job aspirants can get access to multiple jobs in dream companies. Relevel also gives companies easy access to source and select the best of candidates, pre-assessed on their aptitude, competencies and skills.\n",
    "\n",
    "Relevel, an Unacademy Group Company, is India's first hiring platform that empowers job-seekers to showcase their skills through tests and get their dream job within 15 days.\n",
    "\n",
    "<img src=\"data:image/png;base64,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\">\n",
    "\n",
    "### What is Cirrhosis ?\n",
    "\n",
    "Cirrhosis is a late stage of scarring (fibrosis) of the liver caused by many forms of liver diseases and conditions, such as hepatitis and chronic alcoholism.\n",
    "\n",
    "Each time your liver is injured — whether by disease, excessive alcohol consumption or another cause — it tries to repair itself. In the process, scar tissue forms. As cirrhosis progresses, more and more scar tissue forms, making it difficult for the liver to function (decompensated cirrhosis). Advanced cirrhosis is life-threatening.\n",
    "\n",
    "The liver damage done by cirrhosis generally can't be undone. But if liver cirrhosis is diagnosed early and the cause is treated, further damage can be limited and, rarely, reversed.\n",
    "\n",
    "<img src=\"https://lirp.cdn-website.com/69c0b277/dms3rep/multi/opt/Liver+Cirrhosis+-+Symptoms%2C+Causes+and+Prevention-1920w.jpg\">"
   ]
  },
  {
   "cell_type": "markdown",
   "metadata": {},
   "source": [
    "### Cirrhosis Dataset\n",
    "link : `https://raw.githubusercontent.com/mrblink2002/Cirrhosis_DataAnalysis_CaseStudy/master/Dataset/cirrhosis.csv`\n",
    "\n",
    "Columns|Description\n",
    "---|---\n",
    "ID|Represents the ID of the Patient\n",
    "N_Days|Number of Days Patient Under Treatment\n",
    "Status|Current Status of the Patient\n",
    "Drug|Drug Given to Patient\n",
    "Age|Simply Age of Patient \n",
    "Sex|Gender of Patient \n",
    "Ascites | Variable To check Whether a Patient Have Ascites Or Not\n",
    "Hepatomegaly | Variable To check Whether a Patient Have Hepatomegaly Or Not\n",
    "Spiders | Variable To check Whether a Patient Have Spiders Or Not\n",
    "Edema | Variable To check Whether a Patient Have Edema Or Not\n",
    "Bilirubin | Variable To check Whether a Patient Have Bilirubin Or Not\n",
    "Cholesterol | Cholesterol level of the Patient \n",
    "Albumin | Albumin level of the Patient\n",
    "Copper | Level of Copper in Patient's Body\n",
    "Alk_Phos| Level of Alkanic Phosphorous\n",
    "SGOT | Level of SGOT in Patient's Body\n",
    "Tryglicerides | Level of Tryglicerides in Patient's Body\n",
    "Platelets | Amount of Platelets in Patient's Body\n",
    "Prothrombin | Amount of Prothrombin in Patient's Body'\n",
    "Stage | Stage of Cirrhosis"
   ]
  },
  {
   "cell_type": "markdown",
   "metadata": {},
   "source": [
    "## Questions Asked\n",
    "\n",
    "Q1.\n",
    "<ol type=\"a\">\n",
    "<li>Calculate the Percentage of Missing Values in Dataset.</li>\n",
    "<li>Create A DataFrame and Output The Percentage of Missing Value of each field in Descending Order.</li>\n",
    "<li>Among the Features that have almost same percentage of missing values can you run a correlation\n",
    "   test on the non missing values of the same features to see if there exists any dependancy between  \n",
    "    them.</li>\n",
    "</ol>\n",
    "\n",
    "Q2.\n",
    "<ol type=\"a\">\n",
    "<li>How Does The Ratio Of Male To Female Changes As We go Down the Severity Stage of Crrihosis from stage \n",
    "1 to stage 4 ? Comment If You See Any Pattern</li>\n",
    "<li>Does the Presence of Trigylcerides increases the stage severity of crrihosis ? Run a Statistical \n",
    "Test To Prove the Same</li>\n",
    "</ol>\n",
    "\n",
    "Q3. \n",
    "<ol type=\"a\">\n",
    "<li>How do the platelet counts vary with age in males and females ?. Demonstrate the Relationship with help of Visualization</li>\n",
    "<li>With the Help of Visualization Check For the Outliers in the field \"Cholesterol\" and \"Bilirubin\". How Can you Deal With this Outliers ?</li>\n",
    "<li>After Dealing With Outliers, Check For the Relationship between Two Features a & b and what can you infer from that ?</li>\n",
    "</ol>\n",
    "\n",
    "Q4.\n",
    "<ol type=\"a\">\n",
    "<li>Cholesterol Level Rises With age Test This hypothesis. If you Visualize this relationship Separately for males and\n",
    "females which genders shows a stepper Curve rise (if their any) ?</li>\n",
    "<li>How will you test out the combined effect of the features \"Ascites\" & \"Hepatomegaly \" on the cirrhois stage</li>\n",
    "</ol>\n",
    "\n",
    "Q5.\n",
    "<ol type=\"a\">\n",
    "Given A task of Predicting the Stage of Liver Cirrhosis, Select any 5 Features based on The Analysis in the previous\n",
    "question and build the predictive model\n",
    "<br>\n",
    "Hold 20% of Dataset and Use It for Testing the Model\n",
    "<br>\n",
    "What is the Accuracy of Predictive Model in terms of Accuracy Score Metrics\n",
    "</ol>\n"
   ]
  },
  {
   "cell_type": "markdown",
   "metadata": {},
   "source": [
    "**Importing the Libraries**"
   ]
  },
  {
   "cell_type": "code",
   "execution_count": 2,
   "metadata": {},
   "outputs": [],
   "source": [
    "import pandas as pd \n",
    "import numpy as np \n",
    "import matplotlib.pyplot as plt \n",
    "import plotly.express as px \n",
    "import seaborn as sns\n",
    "import plotly.graph_objects as go \n",
    "from sklearn.linear_model import LogisticRegression"
   ]
  },
  {
   "cell_type": "markdown",
   "metadata": {},
   "source": [
    "**Importing the Dataset**"
   ]
  },
  {
   "cell_type": "code",
   "execution_count": 3,
   "metadata": {},
   "outputs": [
    {
     "data": {
      "text/html": [
       "<div>\n",
       "<style scoped>\n",
       "    .dataframe tbody tr th:only-of-type {\n",
       "        vertical-align: middle;\n",
       "    }\n",
       "\n",
       "    .dataframe tbody tr th {\n",
       "        vertical-align: top;\n",
       "    }\n",
       "\n",
       "    .dataframe thead th {\n",
       "        text-align: right;\n",
       "    }\n",
       "</style>\n",
       "<table border=\"1\" class=\"dataframe\">\n",
       "  <thead>\n",
       "    <tr style=\"text-align: right;\">\n",
       "      <th></th>\n",
       "      <th>ID</th>\n",
       "      <th>N_Days</th>\n",
       "      <th>Status</th>\n",
       "      <th>Drug</th>\n",
       "      <th>Age</th>\n",
       "      <th>Sex</th>\n",
       "      <th>Ascites</th>\n",
       "      <th>Hepatomegaly</th>\n",
       "      <th>Spiders</th>\n",
       "      <th>Edema</th>\n",
       "      <th>Bilirubin</th>\n",
       "      <th>Cholesterol</th>\n",
       "      <th>Albumin</th>\n",
       "      <th>Copper</th>\n",
       "      <th>Alk_Phos</th>\n",
       "      <th>SGOT</th>\n",
       "      <th>Tryglicerides</th>\n",
       "      <th>Platelets</th>\n",
       "      <th>Prothrombin</th>\n",
       "      <th>Stage</th>\n",
       "    </tr>\n",
       "  </thead>\n",
       "  <tbody>\n",
       "    <tr>\n",
       "      <th>0</th>\n",
       "      <td>1</td>\n",
       "      <td>400</td>\n",
       "      <td>D</td>\n",
       "      <td>D-penicillamine</td>\n",
       "      <td>21464</td>\n",
       "      <td>F</td>\n",
       "      <td>Y</td>\n",
       "      <td>Y</td>\n",
       "      <td>Y</td>\n",
       "      <td>Y</td>\n",
       "      <td>14.5</td>\n",
       "      <td>261.0</td>\n",
       "      <td>2.60</td>\n",
       "      <td>156.0</td>\n",
       "      <td>1718.0</td>\n",
       "      <td>137.95</td>\n",
       "      <td>172.0</td>\n",
       "      <td>190.0</td>\n",
       "      <td>12.2</td>\n",
       "      <td>4.0</td>\n",
       "    </tr>\n",
       "    <tr>\n",
       "      <th>1</th>\n",
       "      <td>2</td>\n",
       "      <td>4500</td>\n",
       "      <td>C</td>\n",
       "      <td>D-penicillamine</td>\n",
       "      <td>20617</td>\n",
       "      <td>F</td>\n",
       "      <td>N</td>\n",
       "      <td>Y</td>\n",
       "      <td>Y</td>\n",
       "      <td>N</td>\n",
       "      <td>1.1</td>\n",
       "      <td>302.0</td>\n",
       "      <td>4.14</td>\n",
       "      <td>54.0</td>\n",
       "      <td>7394.8</td>\n",
       "      <td>113.52</td>\n",
       "      <td>88.0</td>\n",
       "      <td>221.0</td>\n",
       "      <td>10.6</td>\n",
       "      <td>3.0</td>\n",
       "    </tr>\n",
       "    <tr>\n",
       "      <th>2</th>\n",
       "      <td>3</td>\n",
       "      <td>1012</td>\n",
       "      <td>D</td>\n",
       "      <td>D-penicillamine</td>\n",
       "      <td>25594</td>\n",
       "      <td>M</td>\n",
       "      <td>N</td>\n",
       "      <td>N</td>\n",
       "      <td>N</td>\n",
       "      <td>S</td>\n",
       "      <td>1.4</td>\n",
       "      <td>176.0</td>\n",
       "      <td>3.48</td>\n",
       "      <td>210.0</td>\n",
       "      <td>516.0</td>\n",
       "      <td>96.10</td>\n",
       "      <td>55.0</td>\n",
       "      <td>151.0</td>\n",
       "      <td>12.0</td>\n",
       "      <td>4.0</td>\n",
       "    </tr>\n",
       "    <tr>\n",
       "      <th>3</th>\n",
       "      <td>4</td>\n",
       "      <td>1925</td>\n",
       "      <td>D</td>\n",
       "      <td>D-penicillamine</td>\n",
       "      <td>19994</td>\n",
       "      <td>F</td>\n",
       "      <td>N</td>\n",
       "      <td>Y</td>\n",
       "      <td>Y</td>\n",
       "      <td>S</td>\n",
       "      <td>1.8</td>\n",
       "      <td>244.0</td>\n",
       "      <td>2.54</td>\n",
       "      <td>64.0</td>\n",
       "      <td>6121.8</td>\n",
       "      <td>60.63</td>\n",
       "      <td>92.0</td>\n",
       "      <td>183.0</td>\n",
       "      <td>10.3</td>\n",
       "      <td>4.0</td>\n",
       "    </tr>\n",
       "    <tr>\n",
       "      <th>4</th>\n",
       "      <td>5</td>\n",
       "      <td>1504</td>\n",
       "      <td>CL</td>\n",
       "      <td>Placebo</td>\n",
       "      <td>13918</td>\n",
       "      <td>F</td>\n",
       "      <td>N</td>\n",
       "      <td>Y</td>\n",
       "      <td>Y</td>\n",
       "      <td>N</td>\n",
       "      <td>3.4</td>\n",
       "      <td>279.0</td>\n",
       "      <td>3.53</td>\n",
       "      <td>143.0</td>\n",
       "      <td>671.0</td>\n",
       "      <td>113.15</td>\n",
       "      <td>72.0</td>\n",
       "      <td>136.0</td>\n",
       "      <td>10.9</td>\n",
       "      <td>3.0</td>\n",
       "    </tr>\n",
       "  </tbody>\n",
       "</table>\n",
       "</div>"
      ],
      "text/plain": [
       "   ID  N_Days Status             Drug    Age Sex Ascites Hepatomegaly Spiders  \\\n",
       "0   1     400      D  D-penicillamine  21464   F       Y            Y       Y   \n",
       "1   2    4500      C  D-penicillamine  20617   F       N            Y       Y   \n",
       "2   3    1012      D  D-penicillamine  25594   M       N            N       N   \n",
       "3   4    1925      D  D-penicillamine  19994   F       N            Y       Y   \n",
       "4   5    1504     CL          Placebo  13918   F       N            Y       Y   \n",
       "\n",
       "  Edema  Bilirubin  Cholesterol  Albumin  Copper  Alk_Phos    SGOT  \\\n",
       "0     Y       14.5        261.0     2.60   156.0    1718.0  137.95   \n",
       "1     N        1.1        302.0     4.14    54.0    7394.8  113.52   \n",
       "2     S        1.4        176.0     3.48   210.0     516.0   96.10   \n",
       "3     S        1.8        244.0     2.54    64.0    6121.8   60.63   \n",
       "4     N        3.4        279.0     3.53   143.0     671.0  113.15   \n",
       "\n",
       "   Tryglicerides  Platelets  Prothrombin  Stage  \n",
       "0          172.0      190.0         12.2    4.0  \n",
       "1           88.0      221.0         10.6    3.0  \n",
       "2           55.0      151.0         12.0    4.0  \n",
       "3           92.0      183.0         10.3    4.0  \n",
       "4           72.0      136.0         10.9    3.0  "
      ]
     },
     "execution_count": 3,
     "metadata": {},
     "output_type": "execute_result"
    }
   ],
   "source": [
    "df = pd.read_csv(\"https://raw.githubusercontent.com/mrblink2002/Cirrhosis_DataAnalysis_CaseStudy/master/Dataset/cirrhosis.csv\")\n",
    "df.head()"
   ]
  },
  {
   "cell_type": "markdown",
   "metadata": {},
   "source": [
    "**Exploring the Dataset**"
   ]
  },
  {
   "cell_type": "code",
   "execution_count": 4,
   "metadata": {},
   "outputs": [
    {
     "name": "stdout",
     "output_type": "stream",
     "text": [
      "<class 'pandas.core.frame.DataFrame'>\n",
      "RangeIndex: 418 entries, 0 to 417\n",
      "Data columns (total 20 columns):\n",
      " #   Column         Non-Null Count  Dtype  \n",
      "---  ------         --------------  -----  \n",
      " 0   ID             418 non-null    int64  \n",
      " 1   N_Days         418 non-null    int64  \n",
      " 2   Status         418 non-null    object \n",
      " 3   Drug           312 non-null    object \n",
      " 4   Age            418 non-null    int64  \n",
      " 5   Sex            418 non-null    object \n",
      " 6   Ascites        312 non-null    object \n",
      " 7   Hepatomegaly   312 non-null    object \n",
      " 8   Spiders        312 non-null    object \n",
      " 9   Edema          418 non-null    object \n",
      " 10  Bilirubin      418 non-null    float64\n",
      " 11  Cholesterol    284 non-null    float64\n",
      " 12  Albumin        418 non-null    float64\n",
      " 13  Copper         310 non-null    float64\n",
      " 14  Alk_Phos       312 non-null    float64\n",
      " 15  SGOT           312 non-null    float64\n",
      " 16  Tryglicerides  282 non-null    float64\n",
      " 17  Platelets      407 non-null    float64\n",
      " 18  Prothrombin    416 non-null    float64\n",
      " 19  Stage          412 non-null    float64\n",
      "dtypes: float64(10), int64(3), object(7)\n",
      "memory usage: 65.4+ KB\n"
     ]
    }
   ],
   "source": [
    "df.info()"
   ]
  },
  {
   "cell_type": "code",
   "execution_count": 5,
   "metadata": {},
   "outputs": [
    {
     "data": {
      "text/html": [
       "<div>\n",
       "<style scoped>\n",
       "    .dataframe tbody tr th:only-of-type {\n",
       "        vertical-align: middle;\n",
       "    }\n",
       "\n",
       "    .dataframe tbody tr th {\n",
       "        vertical-align: top;\n",
       "    }\n",
       "\n",
       "    .dataframe thead th {\n",
       "        text-align: right;\n",
       "    }\n",
       "</style>\n",
       "<table border=\"1\" class=\"dataframe\">\n",
       "  <thead>\n",
       "    <tr style=\"text-align: right;\">\n",
       "      <th></th>\n",
       "      <th>ID</th>\n",
       "      <th>N_Days</th>\n",
       "      <th>Age</th>\n",
       "      <th>Bilirubin</th>\n",
       "      <th>Cholesterol</th>\n",
       "      <th>Albumin</th>\n",
       "      <th>Copper</th>\n",
       "      <th>Alk_Phos</th>\n",
       "      <th>SGOT</th>\n",
       "      <th>Tryglicerides</th>\n",
       "      <th>Platelets</th>\n",
       "      <th>Prothrombin</th>\n",
       "      <th>Stage</th>\n",
       "    </tr>\n",
       "  </thead>\n",
       "  <tbody>\n",
       "    <tr>\n",
       "      <th>count</th>\n",
       "      <td>418.000000</td>\n",
       "      <td>418.000000</td>\n",
       "      <td>418.000000</td>\n",
       "      <td>418.000000</td>\n",
       "      <td>284.000000</td>\n",
       "      <td>418.000000</td>\n",
       "      <td>310.000000</td>\n",
       "      <td>312.000000</td>\n",
       "      <td>312.000000</td>\n",
       "      <td>282.000000</td>\n",
       "      <td>407.000000</td>\n",
       "      <td>416.000000</td>\n",
       "      <td>412.000000</td>\n",
       "    </tr>\n",
       "    <tr>\n",
       "      <th>mean</th>\n",
       "      <td>209.500000</td>\n",
       "      <td>1917.782297</td>\n",
       "      <td>18533.351675</td>\n",
       "      <td>3.220813</td>\n",
       "      <td>369.510563</td>\n",
       "      <td>3.497440</td>\n",
       "      <td>97.648387</td>\n",
       "      <td>1982.655769</td>\n",
       "      <td>122.556346</td>\n",
       "      <td>124.702128</td>\n",
       "      <td>257.024570</td>\n",
       "      <td>10.731731</td>\n",
       "      <td>3.024272</td>\n",
       "    </tr>\n",
       "    <tr>\n",
       "      <th>std</th>\n",
       "      <td>120.810458</td>\n",
       "      <td>1104.672992</td>\n",
       "      <td>3815.845055</td>\n",
       "      <td>4.407506</td>\n",
       "      <td>231.944545</td>\n",
       "      <td>0.424972</td>\n",
       "      <td>85.613920</td>\n",
       "      <td>2140.388824</td>\n",
       "      <td>56.699525</td>\n",
       "      <td>65.148639</td>\n",
       "      <td>98.325585</td>\n",
       "      <td>1.022000</td>\n",
       "      <td>0.882042</td>\n",
       "    </tr>\n",
       "    <tr>\n",
       "      <th>min</th>\n",
       "      <td>1.000000</td>\n",
       "      <td>41.000000</td>\n",
       "      <td>9598.000000</td>\n",
       "      <td>0.300000</td>\n",
       "      <td>120.000000</td>\n",
       "      <td>1.960000</td>\n",
       "      <td>4.000000</td>\n",
       "      <td>289.000000</td>\n",
       "      <td>26.350000</td>\n",
       "      <td>33.000000</td>\n",
       "      <td>62.000000</td>\n",
       "      <td>9.000000</td>\n",
       "      <td>1.000000</td>\n",
       "    </tr>\n",
       "    <tr>\n",
       "      <th>25%</th>\n",
       "      <td>105.250000</td>\n",
       "      <td>1092.750000</td>\n",
       "      <td>15644.500000</td>\n",
       "      <td>0.800000</td>\n",
       "      <td>249.500000</td>\n",
       "      <td>3.242500</td>\n",
       "      <td>41.250000</td>\n",
       "      <td>871.500000</td>\n",
       "      <td>80.600000</td>\n",
       "      <td>84.250000</td>\n",
       "      <td>188.500000</td>\n",
       "      <td>10.000000</td>\n",
       "      <td>2.000000</td>\n",
       "    </tr>\n",
       "    <tr>\n",
       "      <th>50%</th>\n",
       "      <td>209.500000</td>\n",
       "      <td>1730.000000</td>\n",
       "      <td>18628.000000</td>\n",
       "      <td>1.400000</td>\n",
       "      <td>309.500000</td>\n",
       "      <td>3.530000</td>\n",
       "      <td>73.000000</td>\n",
       "      <td>1259.000000</td>\n",
       "      <td>114.700000</td>\n",
       "      <td>108.000000</td>\n",
       "      <td>251.000000</td>\n",
       "      <td>10.600000</td>\n",
       "      <td>3.000000</td>\n",
       "    </tr>\n",
       "    <tr>\n",
       "      <th>75%</th>\n",
       "      <td>313.750000</td>\n",
       "      <td>2613.500000</td>\n",
       "      <td>21272.500000</td>\n",
       "      <td>3.400000</td>\n",
       "      <td>400.000000</td>\n",
       "      <td>3.770000</td>\n",
       "      <td>123.000000</td>\n",
       "      <td>1980.000000</td>\n",
       "      <td>151.900000</td>\n",
       "      <td>151.000000</td>\n",
       "      <td>318.000000</td>\n",
       "      <td>11.100000</td>\n",
       "      <td>4.000000</td>\n",
       "    </tr>\n",
       "    <tr>\n",
       "      <th>max</th>\n",
       "      <td>418.000000</td>\n",
       "      <td>4795.000000</td>\n",
       "      <td>28650.000000</td>\n",
       "      <td>28.000000</td>\n",
       "      <td>1775.000000</td>\n",
       "      <td>4.640000</td>\n",
       "      <td>588.000000</td>\n",
       "      <td>13862.400000</td>\n",
       "      <td>457.250000</td>\n",
       "      <td>598.000000</td>\n",
       "      <td>721.000000</td>\n",
       "      <td>18.000000</td>\n",
       "      <td>4.000000</td>\n",
       "    </tr>\n",
       "  </tbody>\n",
       "</table>\n",
       "</div>"
      ],
      "text/plain": [
       "               ID       N_Days           Age   Bilirubin  Cholesterol  \\\n",
       "count  418.000000   418.000000    418.000000  418.000000   284.000000   \n",
       "mean   209.500000  1917.782297  18533.351675    3.220813   369.510563   \n",
       "std    120.810458  1104.672992   3815.845055    4.407506   231.944545   \n",
       "min      1.000000    41.000000   9598.000000    0.300000   120.000000   \n",
       "25%    105.250000  1092.750000  15644.500000    0.800000   249.500000   \n",
       "50%    209.500000  1730.000000  18628.000000    1.400000   309.500000   \n",
       "75%    313.750000  2613.500000  21272.500000    3.400000   400.000000   \n",
       "max    418.000000  4795.000000  28650.000000   28.000000  1775.000000   \n",
       "\n",
       "          Albumin      Copper      Alk_Phos        SGOT  Tryglicerides  \\\n",
       "count  418.000000  310.000000    312.000000  312.000000     282.000000   \n",
       "mean     3.497440   97.648387   1982.655769  122.556346     124.702128   \n",
       "std      0.424972   85.613920   2140.388824   56.699525      65.148639   \n",
       "min      1.960000    4.000000    289.000000   26.350000      33.000000   \n",
       "25%      3.242500   41.250000    871.500000   80.600000      84.250000   \n",
       "50%      3.530000   73.000000   1259.000000  114.700000     108.000000   \n",
       "75%      3.770000  123.000000   1980.000000  151.900000     151.000000   \n",
       "max      4.640000  588.000000  13862.400000  457.250000     598.000000   \n",
       "\n",
       "        Platelets  Prothrombin       Stage  \n",
       "count  407.000000   416.000000  412.000000  \n",
       "mean   257.024570    10.731731    3.024272  \n",
       "std     98.325585     1.022000    0.882042  \n",
       "min     62.000000     9.000000    1.000000  \n",
       "25%    188.500000    10.000000    2.000000  \n",
       "50%    251.000000    10.600000    3.000000  \n",
       "75%    318.000000    11.100000    4.000000  \n",
       "max    721.000000    18.000000    4.000000  "
      ]
     },
     "execution_count": 5,
     "metadata": {},
     "output_type": "execute_result"
    }
   ],
   "source": [
    "df.describe()"
   ]
  },
  {
   "cell_type": "code",
   "execution_count": 6,
   "metadata": {},
   "outputs": [
    {
     "data": {
      "text/plain": [
       "ID                 int64\n",
       "N_Days             int64\n",
       "Status            object\n",
       "Drug              object\n",
       "Age                int64\n",
       "Sex               object\n",
       "Ascites           object\n",
       "Hepatomegaly      object\n",
       "Spiders           object\n",
       "Edema             object\n",
       "Bilirubin        float64\n",
       "Cholesterol      float64\n",
       "Albumin          float64\n",
       "Copper           float64\n",
       "Alk_Phos         float64\n",
       "SGOT             float64\n",
       "Tryglicerides    float64\n",
       "Platelets        float64\n",
       "Prothrombin      float64\n",
       "Stage            float64\n",
       "dtype: object"
      ]
     },
     "execution_count": 6,
     "metadata": {},
     "output_type": "execute_result"
    }
   ],
   "source": [
    "df.dtypes"
   ]
  },
  {
   "cell_type": "markdown",
   "metadata": {},
   "source": [
    "**Answer to Question 1 :**"
   ]
  },
  {
   "cell_type": "code",
   "execution_count": 7,
   "metadata": {},
   "outputs": [
    {
     "data": {
      "text/plain": [
       "ID                0.00\n",
       "N_Days            0.00\n",
       "Status            0.00\n",
       "Drug             25.36\n",
       "Age               0.00\n",
       "Sex               0.00\n",
       "Ascites          25.36\n",
       "Hepatomegaly     25.36\n",
       "Spiders          25.36\n",
       "Edema             0.00\n",
       "Bilirubin         0.00\n",
       "Cholesterol      32.06\n",
       "Albumin           0.00\n",
       "Copper           25.84\n",
       "Alk_Phos         25.36\n",
       "SGOT             25.36\n",
       "Tryglicerides    32.54\n",
       "Platelets         2.63\n",
       "Prothrombin       0.48\n",
       "Stage             1.44\n",
       "dtype: float64"
      ]
     },
     "execution_count": 7,
     "metadata": {},
     "output_type": "execute_result"
    }
   ],
   "source": [
    "# a)\n",
    "round((df.isnull().sum() / df.shape[0]) * 100 , 2)"
   ]
  },
  {
   "cell_type": "code",
   "execution_count": 8,
   "metadata": {},
   "outputs": [
    {
     "data": {
      "text/html": [
       "<div>\n",
       "<style scoped>\n",
       "    .dataframe tbody tr th:only-of-type {\n",
       "        vertical-align: middle;\n",
       "    }\n",
       "\n",
       "    .dataframe tbody tr th {\n",
       "        vertical-align: top;\n",
       "    }\n",
       "\n",
       "    .dataframe thead th {\n",
       "        text-align: right;\n",
       "    }\n",
       "</style>\n",
       "<table border=\"1\" class=\"dataframe\">\n",
       "  <thead>\n",
       "    <tr style=\"text-align: right;\">\n",
       "      <th></th>\n",
       "      <th>index</th>\n",
       "      <th>Values</th>\n",
       "    </tr>\n",
       "  </thead>\n",
       "  <tbody>\n",
       "    <tr>\n",
       "      <th>16</th>\n",
       "      <td>Tryglicerides</td>\n",
       "      <td>32.54</td>\n",
       "    </tr>\n",
       "    <tr>\n",
       "      <th>11</th>\n",
       "      <td>Cholesterol</td>\n",
       "      <td>32.06</td>\n",
       "    </tr>\n",
       "    <tr>\n",
       "      <th>13</th>\n",
       "      <td>Copper</td>\n",
       "      <td>25.84</td>\n",
       "    </tr>\n",
       "    <tr>\n",
       "      <th>3</th>\n",
       "      <td>Drug</td>\n",
       "      <td>25.36</td>\n",
       "    </tr>\n",
       "    <tr>\n",
       "      <th>6</th>\n",
       "      <td>Ascites</td>\n",
       "      <td>25.36</td>\n",
       "    </tr>\n",
       "    <tr>\n",
       "      <th>7</th>\n",
       "      <td>Hepatomegaly</td>\n",
       "      <td>25.36</td>\n",
       "    </tr>\n",
       "    <tr>\n",
       "      <th>8</th>\n",
       "      <td>Spiders</td>\n",
       "      <td>25.36</td>\n",
       "    </tr>\n",
       "    <tr>\n",
       "      <th>15</th>\n",
       "      <td>SGOT</td>\n",
       "      <td>25.36</td>\n",
       "    </tr>\n",
       "    <tr>\n",
       "      <th>14</th>\n",
       "      <td>Alk_Phos</td>\n",
       "      <td>25.36</td>\n",
       "    </tr>\n",
       "    <tr>\n",
       "      <th>17</th>\n",
       "      <td>Platelets</td>\n",
       "      <td>2.63</td>\n",
       "    </tr>\n",
       "    <tr>\n",
       "      <th>19</th>\n",
       "      <td>Stage</td>\n",
       "      <td>1.44</td>\n",
       "    </tr>\n",
       "    <tr>\n",
       "      <th>18</th>\n",
       "      <td>Prothrombin</td>\n",
       "      <td>0.48</td>\n",
       "    </tr>\n",
       "    <tr>\n",
       "      <th>0</th>\n",
       "      <td>ID</td>\n",
       "      <td>0.00</td>\n",
       "    </tr>\n",
       "    <tr>\n",
       "      <th>12</th>\n",
       "      <td>Albumin</td>\n",
       "      <td>0.00</td>\n",
       "    </tr>\n",
       "    <tr>\n",
       "      <th>1</th>\n",
       "      <td>N_Days</td>\n",
       "      <td>0.00</td>\n",
       "    </tr>\n",
       "    <tr>\n",
       "      <th>9</th>\n",
       "      <td>Edema</td>\n",
       "      <td>0.00</td>\n",
       "    </tr>\n",
       "    <tr>\n",
       "      <th>5</th>\n",
       "      <td>Sex</td>\n",
       "      <td>0.00</td>\n",
       "    </tr>\n",
       "    <tr>\n",
       "      <th>4</th>\n",
       "      <td>Age</td>\n",
       "      <td>0.00</td>\n",
       "    </tr>\n",
       "    <tr>\n",
       "      <th>2</th>\n",
       "      <td>Status</td>\n",
       "      <td>0.00</td>\n",
       "    </tr>\n",
       "    <tr>\n",
       "      <th>10</th>\n",
       "      <td>Bilirubin</td>\n",
       "      <td>0.00</td>\n",
       "    </tr>\n",
       "  </tbody>\n",
       "</table>\n",
       "</div>"
      ],
      "text/plain": [
       "            index  Values\n",
       "16  Tryglicerides   32.54\n",
       "11    Cholesterol   32.06\n",
       "13         Copper   25.84\n",
       "3            Drug   25.36\n",
       "6         Ascites   25.36\n",
       "7    Hepatomegaly   25.36\n",
       "8         Spiders   25.36\n",
       "15           SGOT   25.36\n",
       "14       Alk_Phos   25.36\n",
       "17      Platelets    2.63\n",
       "19          Stage    1.44\n",
       "18    Prothrombin    0.48\n",
       "0              ID    0.00\n",
       "12        Albumin    0.00\n",
       "1          N_Days    0.00\n",
       "9           Edema    0.00\n",
       "5             Sex    0.00\n",
       "4             Age    0.00\n",
       "2          Status    0.00\n",
       "10      Bilirubin    0.00"
      ]
     },
     "execution_count": 8,
     "metadata": {},
     "output_type": "execute_result"
    }
   ],
   "source": [
    "# b)\n",
    "miss_percent = round((df.isnull().sum() / df.shape[0]) * 100, 2) \n",
    "miss_df = pd.DataFrame({ \"Values\" : miss_percent}).reset_index()\n",
    "\n",
    "miss_df.sort_values(by = \"Values\", ascending = False)"
   ]
  },
  {
   "cell_type": "markdown",
   "metadata": {},
   "source": [
    "The Variables Copper , SGOT , Alk_Phos are the Variables Which Are Having <br>Almost Same Number of Missing Percentage so we are going to use <br>this fileds to find relationship in between them if there exist any"
   ]
  },
  {
   "cell_type": "code",
   "execution_count": 9,
   "metadata": {},
   "outputs": [
    {
     "data": {
      "text/html": [
       "<div>\n",
       "<style scoped>\n",
       "    .dataframe tbody tr th:only-of-type {\n",
       "        vertical-align: middle;\n",
       "    }\n",
       "\n",
       "    .dataframe tbody tr th {\n",
       "        vertical-align: top;\n",
       "    }\n",
       "\n",
       "    .dataframe thead th {\n",
       "        text-align: right;\n",
       "    }\n",
       "</style>\n",
       "<table border=\"1\" class=\"dataframe\">\n",
       "  <thead>\n",
       "    <tr style=\"text-align: right;\">\n",
       "      <th></th>\n",
       "      <th>Copper</th>\n",
       "      <th>SGOT</th>\n",
       "      <th>Alk_Phos</th>\n",
       "    </tr>\n",
       "  </thead>\n",
       "  <tbody>\n",
       "    <tr>\n",
       "      <th>Copper</th>\n",
       "      <td>1.000000</td>\n",
       "      <td>0.293829</td>\n",
       "      <td>0.187357</td>\n",
       "    </tr>\n",
       "    <tr>\n",
       "      <th>SGOT</th>\n",
       "      <td>0.293829</td>\n",
       "      <td>1.000000</td>\n",
       "      <td>0.112217</td>\n",
       "    </tr>\n",
       "    <tr>\n",
       "      <th>Alk_Phos</th>\n",
       "      <td>0.187357</td>\n",
       "      <td>0.112217</td>\n",
       "      <td>1.000000</td>\n",
       "    </tr>\n",
       "  </tbody>\n",
       "</table>\n",
       "</div>"
      ],
      "text/plain": [
       "            Copper      SGOT  Alk_Phos\n",
       "Copper    1.000000  0.293829  0.187357\n",
       "SGOT      0.293829  1.000000  0.112217\n",
       "Alk_Phos  0.187357  0.112217  1.000000"
      ]
     },
     "execution_count": 9,
     "metadata": {},
     "output_type": "execute_result"
    }
   ],
   "source": [
    "# c)\n",
    "#Running the Pearson's Correlation Test on Those Columns\n",
    "filtered_first = [\"Copper\",\"Drug\",\"Ascites\",\"Hepatomegaly\",\"Spiders\",\"SGOT\",\"Alk_Phos\"]\n",
    "\n",
    "df[filtered_first].corr()"
   ]
  },
  {
   "cell_type": "code",
   "execution_count": 10,
   "metadata": {},
   "outputs": [
    {
     "data": {
      "image/png": "[encoded data removed]",
      "text/plain": [
       "<Figure size 800x400 with 2 Axes>"
      ]
     },
     "metadata": {},
     "output_type": "display_data"
    }
   ],
   "source": [
    "plt.style.use('seaborn-whitegrid')\n",
    "\n",
    "plt.figure(figsize = (8,4), dpi = 100)\n",
    "sns.heatmap(df[filtered_first].corr(), annot = True, linewidths = 2)\n",
    "plt.title(\"Heatmap Showing Correlation\")\n",
    "plt.show()"
   ]
  },
  {
   "cell_type": "markdown",
   "metadata": {},
   "source": [
    "<strong>From The Graph Their is Not Any Strong Relationship Between <br>The Features Copper, SGOT and Alk Phos which are relatively having same amount of missing values</strong>"
   ]
  },
  {
   "cell_type": "markdown",
   "metadata": {},
   "source": [
    "Now We are Going To Check For The Columns Tryglicerides and Cholesterol"
   ]
  },
  {
   "cell_type": "code",
   "execution_count": 11,
   "metadata": {},
   "outputs": [
    {
     "data": {
      "text/html": [
       "<div>\n",
       "<style scoped>\n",
       "    .dataframe tbody tr th:only-of-type {\n",
       "        vertical-align: middle;\n",
       "    }\n",
       "\n",
       "    .dataframe tbody tr th {\n",
       "        vertical-align: top;\n",
       "    }\n",
       "\n",
       "    .dataframe thead th {\n",
       "        text-align: right;\n",
       "    }\n",
       "</style>\n",
       "<table border=\"1\" class=\"dataframe\">\n",
       "  <thead>\n",
       "    <tr style=\"text-align: right;\">\n",
       "      <th></th>\n",
       "      <th>Tryglicerides</th>\n",
       "      <th>Cholesterol</th>\n",
       "    </tr>\n",
       "  </thead>\n",
       "  <tbody>\n",
       "    <tr>\n",
       "      <th>Tryglicerides</th>\n",
       "      <td>1.00000</td>\n",
       "      <td>0.27683</td>\n",
       "    </tr>\n",
       "    <tr>\n",
       "      <th>Cholesterol</th>\n",
       "      <td>0.27683</td>\n",
       "      <td>1.00000</td>\n",
       "    </tr>\n",
       "  </tbody>\n",
       "</table>\n",
       "</div>"
      ],
      "text/plain": [
       "               Tryglicerides  Cholesterol\n",
       "Tryglicerides        1.00000      0.27683\n",
       "Cholesterol          0.27683      1.00000"
      ]
     },
     "execution_count": 11,
     "metadata": {},
     "output_type": "execute_result"
    }
   ],
   "source": [
    "filtered_second = [\"Tryglicerides\",\"Cholesterol\"]\n",
    "\n",
    "df[filtered_second].corr()"
   ]
  },
  {
   "cell_type": "code",
   "execution_count": 12,
   "metadata": {},
   "outputs": [
    {
     "data": {
      "image/png": "[encoded data removed]",
      "text/plain": [
       "<Figure size 800x400 with 2 Axes>"
      ]
     },
     "metadata": {},
     "output_type": "display_data"
    }
   ],
   "source": [
    "plt.figure(figsize = (8,4), dpi = 100)\n",
    "sns.heatmap(df[filtered_second].corr(), annot = True, linewidths = 2)\n",
    "plt.title(\"Heatmap Showing Correlation\")\n",
    "plt.show()"
   ]
  },
  {
   "cell_type": "markdown",
   "metadata": {},
   "source": [
    "<strong>From The Graph It is Clear That Their is <br>A Low Positive Correlation Between Tryglicerides and Cholesterol</strong>"
   ]
  },
  {
   "cell_type": "markdown",
   "metadata": {},
   "source": [
    "**Answer To Question 2 :**"
   ]
  },
  {
   "cell_type": "markdown",
   "metadata": {},
   "source": [
    "a)"
   ]
  },
  {
   "cell_type": "code",
   "execution_count": 13,
   "metadata": {},
   "outputs": [],
   "source": [
    "df['count'] = 1"
   ]
  },
  {
   "cell_type": "code",
   "execution_count": 14,
   "metadata": {},
   "outputs": [],
   "source": [
    "extracted = pd.pivot_table(data = df , columns = ['Sex'], index = ['Stage'], values = ['count'], aggfunc=\"count\")\n",
    "filtered = extracted['count']"
   ]
  },
  {
   "cell_type": "code",
   "execution_count": 15,
   "metadata": {},
   "outputs": [],
   "source": [
    "ans = filtered['M'] / filtered[\"F\"]"
   ]
  },
  {
   "cell_type": "code",
   "execution_count": 16,
   "metadata": {},
   "outputs": [
    {
     "data": {
      "image/png": "[encoded data removed]",
      "text/plain": [
       "<Figure size 400x600 with 1 Axes>"
      ]
     },
     "metadata": {},
     "output_type": "display_data"
    }
   ],
   "source": [
    "plt.figure(figsize=(4,6),dpi = 100)\n",
    "sns.barplot(x = ans.index , y = ans, palette = \"pastel\")\n",
    "plt.title(\"Bar Graph Showing Ratio Via Stage\")\n",
    "plt.show()"
   ]
  },
  {
   "cell_type": "markdown",
   "metadata": {},
   "source": [
    "<strong>According To My Findings :</strong>\n",
    "<ul>\n",
    "<li>The Ratio Between Male & Female Remains almost Same At any Stage</li>\n",
    "<li>For all of the 4 stage Their is Negligible Difference between Ratio and therefore <br> It is Concluded that their is no Pattern</li>\n",
    "</ul>"
   ]
  },
  {
   "cell_type": "markdown",
   "metadata": {},
   "source": [
    "b)"
   ]
  },
  {
   "cell_type": "code",
   "execution_count": 30,
   "metadata": {},
   "outputs": [
    {
     "name": "stdout",
     "output_type": "stream",
     "text": [
      "stat=0.060, p=0.217\n",
      "Probably independent\n"
     ]
    }
   ],
   "source": [
    "#As One of The Variable Is Ordianal Categorical Variable & We have to look for monotonic relationship \n",
    "#So It would be best to use Spearman's Rank Correlation Test\n",
    "\n",
    "from scipy.stats import spearmanr\n",
    "stat, p = spearmanr(df['Tryglicerides'].fillna(method = 'ffill').to_numpy(),df['Stage'].fillna(method='ffill').to_numpy())\n",
    "print('stat=%.3f, p=%.3f' % (stat, p))\n",
    "if p > 0.05:\n",
    "\tprint('Probably independent')\n",
    "else:\n",
    "\tprint('Probably dependent')"
   ]
  },
  {
   "cell_type": "markdown",
   "metadata": {},
   "source": [
    "<strong>Persence of Tryglicerides Doesn't Have Any Impact of Crrihosis Stage Rise</strong>"
   ]
  }
 ],
 "metadata": {
  "interpreter": {
   "hash": "964c336549db2cbb3bd5cebfe9145b76bc498789d9180131f599a99692befa91"
  },
  "kernelspec": {
   "display_name": "Python 3.10.1 64-bit",
   "language": "python",
   "name": "python3"
  },
  "language_info": {
   "codemirror_mode": {
    "name": "ipython",
    "version": 3
   },
   "file_extension": ".py",
   "mimetype": "text/x-python",
   "name": "python",
   "nbconvert_exporter": "python",
   "pygments_lexer": "ipython3",
   "version": "3.10.1"
  },
  "orig_nbformat": 4
 },
 "nbformat": 4,
 "nbformat_minor": 2
}
